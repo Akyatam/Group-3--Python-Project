{
 "cells": [
  {
   "cell_type": "markdown",
   "metadata": {},
   "source": [
    "# COVID-19 Impact on Wage-Gap between Men & Women"
   ]
  },
  {
   "cell_type": "code",
   "execution_count": null,
   "metadata": {},
   "outputs": [],
   "source": [
    "import pandas as pd\n",
    "import matplotlib.pyplot as plt\n",
    "import numpy as np"
   ]
  },
  {
   "cell_type": "markdown",
   "metadata": {},
   "source": [
    "# Existing Wage-Gap for salaried & self-employed men and women in the US"
   ]
  },
  {
   "cell_type": "code",
   "execution_count": null,
   "metadata": {},
   "outputs": [],
   "source": [
    "df = pd.read_csv(\"Wage_Gap.csv\")\n",
    "df"
   ]
  },
  {
   "cell_type": "code",
   "execution_count": null,
   "metadata": {},
   "outputs": [],
   "source": [
    "df = df.drop(df.columns[[1, 3, 4, 7]], axis=1)\n",
    "df"
   ]
  },
  {
   "cell_type": "markdown",
   "metadata": {},
   "source": [
    "# Analyzing wage gap between salaried men & women in the US from 2010-2020"
   ]
  },
  {
   "cell_type": "code",
   "execution_count": null,
   "metadata": {},
   "outputs": [],
   "source": [
    "salaried = df.loc[(df['LOCATION'] == \"USA\") & (df['SUBJECT'] == \"EMPLOYEE\") & (df['TIME'] >= 2010)]\n",
    "salaried "
   ]
  },
  {
   "cell_type": "code",
   "execution_count": 108,
   "metadata": {},
   "outputs": [
    {
     "data": {
      "image/png": "[encoded data removed]",
      "text/plain": [
       "<Figure size 432x288 with 1 Axes>"
      ]
     },
     "metadata": {
      "needs_background": "light"
     },
     "output_type": "display_data"
    }
   ],
   "source": [
    "salaried.plot(x ='TIME', y='Value', kind = 'bar')\n",
    "plt.show()"
   ]
  },
  {
   "cell_type": "code",
   "execution_count": 107,
   "metadata": {},
   "outputs": [
    {
     "name": "stdout",
     "output_type": "stream",
     "text": [
      "The average wage gap in the last 10 years between salaried men & women in the US is 18.29769782418182 percent\n"
     ]
    }
   ],
   "source": [
    "average_salaried = salaried[\"Value\"].mean()\n",
    "max_salaried = salaried[\"Value\"].max()\n",
    "min_salaried = salaried[\"Value\"].min()\n",
    "print(\"The average wage gap in the last 10 years between salaried men & women in the US is \" + str(average_salaried) + \" percent\")\n"
   ]
  },
  {
   "cell_type": "markdown",
   "metadata": {},
   "source": [
    "# Analyzing wage gap between self-employed men & women in the US from 2010-2020"
   ]
  },
  {
   "cell_type": "code",
   "execution_count": null,
   "metadata": {},
   "outputs": [],
   "source": [
    "self_employed = df.loc[(df['LOCATION'] == \"USA\") & (df['SUBJECT'] == \"SELFEMPLOYED\") & (df['TIME'] >= 2010)]\n",
    "self_employed #only analyzing wage gap between self-employed men & women from 2010-2020"
   ]
  },
  {
   "cell_type": "code",
   "execution_count": 109,
   "metadata": {},
   "outputs": [
    {
     "data": {
      "image/png": "[encoded data removed]",
      "text/plain": [
       "<Figure size 432x288 with 1 Axes>"
      ]
     },
     "metadata": {
      "needs_background": "light"
     },
     "output_type": "display_data"
    }
   ],
   "source": [
    "self_employed.plot(x ='TIME', y='Value', kind = 'bar')\n",
    "plt.show()"
   ]
  },
  {
   "cell_type": "code",
   "execution_count": 110,
   "metadata": {},
   "outputs": [
    {
     "name": "stdout",
     "output_type": "stream",
     "text": [
      "The average wage gap in the last 10 years between self employed men & women in the US is 45.1791473387 percent\n"
     ]
    }
   ],
   "source": [
    "average_selfemployed = self_employed[\"Value\"].mean()\n",
    "min_selfemployed = self_employed[\"Value\"].min()\n",
    "max_selfemployed = self_employed[\"Value\"].max()\n",
    "print(\"The average wage gap in the last 10 years between self employed men & women in the US is \" + str(average_selfemployed) + \" percent\")\n"
   ]
  },
  {
   "cell_type": "markdown",
   "metadata": {},
   "source": [
    "# Pre and Post-Covid Wage-Gap Analysis for salaried women in the US"
   ]
  },
  {
   "cell_type": "code",
   "execution_count": null,
   "metadata": {
    "scrolled": true
   },
   "outputs": [],
   "source": [
    "post_covid = df.loc[(df['LOCATION'] == \"USA\") & (df['SUBJECT'] == \"EMPLOYEE\") & (df['TIME'] > 2018)]\n",
    "post_covid #post covid data of wage gap for salaried women\n",
    "\n",
    "pre_covid = df.loc[(df['LOCATION'] == \"USA\") & (df['SUBJECT'] == \"EMPLOYEE\") & (df['TIME'] < 2018)]\n",
    "pre_covid #pre covid data of wage gap for salaried women"
   ]
  },
  {
   "cell_type": "code",
   "execution_count": 111,
   "metadata": {},
   "outputs": [
    {
     "name": "stdout",
     "output_type": "stream",
     "text": [
      "count    45.000000\n",
      "mean     26.612934\n",
      "std       7.368227\n",
      "min      17.451206\n",
      "25%      19.780220\n",
      "50%      23.876404\n",
      "75%      33.432172\n",
      "max      39.100684\n",
      "Name: Value, dtype: float64\n"
     ]
    }
   ],
   "source": [
    "#Pre-Covid analysis\n",
    "\n",
    "Pre = pre_covid[\"Value\"].describe()\n",
    "print(Pre)\n"
   ]
  },
  {
   "cell_type": "code",
   "execution_count": 112,
   "metadata": {},
   "outputs": [
    {
     "name": "stdout",
     "output_type": "stream",
     "text": [
      "count     2.000000\n",
      "mean     18.061600\n",
      "std       0.578562\n",
      "min      17.652495\n",
      "25%      17.857048\n",
      "50%      18.061600\n",
      "75%      18.266153\n",
      "max      18.470705\n",
      "Name: Value, dtype: float64\n"
     ]
    }
   ],
   "source": [
    "#Post-Covid analysis\n",
    "\n",
    "Post = post_covid[\"Value\"].describe()\n",
    "print(Post)\n"
   ]
  },
  {
   "cell_type": "markdown",
   "metadata": {},
   "source": [
    "# Women's earnings as a % of men's earnings \n",
    "\n",
    "The dataset for this analysis was obtained from the U.S. Bureau of Labor Statistics. \n",
    "The aim is to understand the differences in overall wage gap in the form of women's earnings as a percentage of men. \n",
    "We have also analysed the impact on wage gap between the genders based on race , post covid. "
   ]
  },
  {
   "cell_type": "code",
   "execution_count": null,
   "metadata": {},
   "outputs": [],
   "source": [
    "pip install openpyxl"
   ]
  },
  {
   "cell_type": "code",
   "execution_count": null,
   "metadata": {},
   "outputs": [],
   "source": [
    "df1 = pd.read_csv(r'\\Users\\neela\\OneDrive\\Documents\\Shruthi\\Python\\Project\\Percentage.csv')\n",
    "df1.head()"
   ]
  },
  {
   "cell_type": "code",
   "execution_count": 113,
   "metadata": {},
   "outputs": [
    {
     "data": {
      "text/plain": [
       "<AxesSubplot:title={'center':'Wage gap'}, xlabel='Year', ylabel=\"Women's Earnings as a % of Men\">"
      ]
     },
     "execution_count": 113,
     "metadata": {},
     "output_type": "execute_result"
    },
    {
     "data": {
      "image/png": "[encoded data removed]",
      "text/plain": [
       "<Figure size 432x288 with 1 Axes>"
      ]
     },
     "metadata": {
      "needs_background": "light"
     },
     "output_type": "display_data"
    }
   ],
   "source": [
    "ax = df1.plot(x ='Year', y='Total', kind = 'line')\n",
    "ax.set_title(\"Wage gap\", size = 20)\n",
    "ax.set_ylabel(\"Women's Earnings as a % of Men\")\n",
    "ax.set_xlabel(\"Year\")\n",
    "ax"
   ]
  },
  {
   "cell_type": "code",
   "execution_count": null,
   "metadata": {},
   "outputs": [],
   "source": [
    "after_covid = df1.loc[(df1['Year'] > 2018)]\n",
    "after_covid"
   ]
  },
  {
   "cell_type": "code",
   "execution_count": 114,
   "metadata": {},
   "outputs": [
    {
     "data": {
      "text/plain": [
       "<AxesSubplot:title={'center':\"Women's Earnings as a % of Men - Covid Impact\"}, xlabel='Year'>"
      ]
     },
     "execution_count": 114,
     "metadata": {},
     "output_type": "execute_result"
    },
    {
     "data": {
      "image/png": "[encoded data removed]",
      "text/plain": [
       "<Figure size 720x720 with 1 Axes>"
      ]
     },
     "metadata": {
      "needs_background": "light"
     },
     "output_type": "display_data"
    }
   ],
   "source": [
    "ax = after_covid.plot(x ='Year', y=['White', 'Black', 'Asian', 'Hispanic'] , kind = 'bar' , figsize=(10,10))\n",
    "ax.set_title(\"Women's Earnings as a % of Men - Covid Impact\", size = 20)\n",
    "ax"
   ]
  },
  {
   "cell_type": "markdown",
   "metadata": {},
   "source": [
    "# The wage gap seems to have stayed consistent pre and post covid based on the chart above with very minimal changes. "
   ]
  },
  {
   "cell_type": "markdown",
   "metadata": {},
   "source": [
    "# Wage Gap based on education levels\n",
    "\n",
    "The dataset from US Bureau of Labor Statistics provides an insight into women's earnings and their education levels. \n",
    "Here, we have tried to analyse correlation between the education level and women's earnings as a % of men's earnings to understand if education plays a role in increasing/decreasing wage gap. "
   ]
  },
  {
   "cell_type": "code",
   "execution_count": null,
   "metadata": {},
   "outputs": [],
   "source": [
    "read_file = pd.read_excel (r'\\Users\\neela\\OneDrive\\Documents\\Shruthi\\Python\\Project\\Percentage_Education.xlsx')\n",
    "read_file.to_csv (r'\\Users\\neela\\OneDrive\\Documents\\Shruthi\\Python\\Project/Percentage_Education.csv', index = None, header=True)\n"
   ]
  },
  {
   "cell_type": "code",
   "execution_count": null,
   "metadata": {},
   "outputs": [],
   "source": [
    "df2 = pd.read_csv(r'\\Users\\neela\\OneDrive\\Documents\\Shruthi\\Python\\Project\\Percentage_Education.csv')\n",
    "df2.head()"
   ]
  },
  {
   "cell_type": "code",
   "execution_count": 115,
   "metadata": {},
   "outputs": [
    {
     "data": {
      "text/html": [
       "<div>\n",
       "<style scoped>\n",
       "    .dataframe tbody tr th:only-of-type {\n",
       "        vertical-align: middle;\n",
       "    }\n",
       "\n",
       "    .dataframe tbody tr th {\n",
       "        vertical-align: top;\n",
       "    }\n",
       "\n",
       "    .dataframe thead th {\n",
       "        text-align: right;\n",
       "    }\n",
       "</style>\n",
       "<table border=\"1\" class=\"dataframe\">\n",
       "  <thead>\n",
       "    <tr style=\"text-align: right;\">\n",
       "      <th></th>\n",
       "      <th>Year</th>\n",
       "      <th>Total</th>\n",
       "      <th>No diploma</th>\n",
       "      <th>High School</th>\n",
       "      <th>College</th>\n",
       "      <th>Post Grad</th>\n",
       "    </tr>\n",
       "  </thead>\n",
       "  <tbody>\n",
       "    <tr>\n",
       "      <th>31</th>\n",
       "      <td>2010</td>\n",
       "      <td>80.5</td>\n",
       "      <td>79.8</td>\n",
       "      <td>76.5</td>\n",
       "      <td>75.5</td>\n",
       "      <td>74.1</td>\n",
       "    </tr>\n",
       "    <tr>\n",
       "      <th>32</th>\n",
       "      <td>2011</td>\n",
       "      <td>81.0</td>\n",
       "      <td>80.9</td>\n",
       "      <td>76.9</td>\n",
       "      <td>76.8</td>\n",
       "      <td>74.9</td>\n",
       "    </tr>\n",
       "    <tr>\n",
       "      <th>33</th>\n",
       "      <td>2012</td>\n",
       "      <td>79.9</td>\n",
       "      <td>76.0</td>\n",
       "      <td>76.3</td>\n",
       "      <td>76.9</td>\n",
       "      <td>73.0</td>\n",
       "    </tr>\n",
       "    <tr>\n",
       "      <th>34</th>\n",
       "      <td>2013</td>\n",
       "      <td>81.1</td>\n",
       "      <td>80.0</td>\n",
       "      <td>78.3</td>\n",
       "      <td>76.6</td>\n",
       "      <td>74.8</td>\n",
       "    </tr>\n",
       "    <tr>\n",
       "      <th>35</th>\n",
       "      <td>2014</td>\n",
       "      <td>81.6</td>\n",
       "      <td>79.1</td>\n",
       "      <td>77.0</td>\n",
       "      <td>75.8</td>\n",
       "      <td>75.7</td>\n",
       "    </tr>\n",
       "    <tr>\n",
       "      <th>36</th>\n",
       "      <td>2015</td>\n",
       "      <td>80.4</td>\n",
       "      <td>80.4</td>\n",
       "      <td>77.2</td>\n",
       "      <td>75.2</td>\n",
       "      <td>74.9</td>\n",
       "    </tr>\n",
       "    <tr>\n",
       "      <th>37</th>\n",
       "      <td>2016</td>\n",
       "      <td>80.9</td>\n",
       "      <td>76.8</td>\n",
       "      <td>77.9</td>\n",
       "      <td>76.8</td>\n",
       "      <td>75.2</td>\n",
       "    </tr>\n",
       "    <tr>\n",
       "      <th>38</th>\n",
       "      <td>2017</td>\n",
       "      <td>81.3</td>\n",
       "      <td>76.5</td>\n",
       "      <td>76.5</td>\n",
       "      <td>76.3</td>\n",
       "      <td>76.4</td>\n",
       "    </tr>\n",
       "    <tr>\n",
       "      <th>39</th>\n",
       "      <td>2018</td>\n",
       "      <td>80.9</td>\n",
       "      <td>77.3</td>\n",
       "      <td>75.2</td>\n",
       "      <td>75.4</td>\n",
       "      <td>75.1</td>\n",
       "    </tr>\n",
       "    <tr>\n",
       "      <th>40</th>\n",
       "      <td>2019</td>\n",
       "      <td>80.8</td>\n",
       "      <td>76.7</td>\n",
       "      <td>75.0</td>\n",
       "      <td>74.4</td>\n",
       "      <td>76.0</td>\n",
       "    </tr>\n",
       "    <tr>\n",
       "      <th>41</th>\n",
       "      <td>2020</td>\n",
       "      <td>81.2</td>\n",
       "      <td>77.9</td>\n",
       "      <td>76.2</td>\n",
       "      <td>75.9</td>\n",
       "      <td>75.4</td>\n",
       "    </tr>\n",
       "  </tbody>\n",
       "</table>\n",
       "</div>"
      ],
      "text/plain": [
       "    Year  Total  No diploma  High School  College  Post Grad\n",
       "31  2010   80.5        79.8         76.5     75.5       74.1\n",
       "32  2011   81.0        80.9         76.9     76.8       74.9\n",
       "33  2012   79.9        76.0         76.3     76.9       73.0\n",
       "34  2013   81.1        80.0         78.3     76.6       74.8\n",
       "35  2014   81.6        79.1         77.0     75.8       75.7\n",
       "36  2015   80.4        80.4         77.2     75.2       74.9\n",
       "37  2016   80.9        76.8         77.9     76.8       75.2\n",
       "38  2017   81.3        76.5         76.5     76.3       76.4\n",
       "39  2018   80.9        77.3         75.2     75.4       75.1\n",
       "40  2019   80.8        76.7         75.0     74.4       76.0\n",
       "41  2020   81.2        77.9         76.2     75.9       75.4"
      ]
     },
     "execution_count": 115,
     "metadata": {},
     "output_type": "execute_result"
    }
   ],
   "source": [
    "last_decade = df2.loc[(df2['Year'] > 2009)]\n",
    "last_decade"
   ]
  },
  {
   "cell_type": "code",
   "execution_count": 116,
   "metadata": {},
   "outputs": [
    {
     "name": "stdout",
     "output_type": "stream",
     "text": [
      "Average income as a % of men's earnings without a high school diploma 72.86428571428571\n",
      "Average income as a % of men's earnings for a woman with a high school diploma is 71.38571428571429\n",
      "Average income as a % of men's earnings with a college degree is 72.93095238095239\n",
      "Average income as a % of men's earnings with post grad 73.4952380952381\n"
     ]
    }
   ],
   "source": [
    "average_no_diploma = df2[\"No diploma\"].mean()\n",
    "print(\"Average income as a % of men's earnings without a high school diploma \" + str(average_no_diploma))\n",
    "\n",
    "average_high_school = df2[\"High School\"].mean()\n",
    "print(\"Average income as a % of men's earnings for a woman with a high school diploma is \" + str(average_high_school))\n",
    "\n",
    "average_college = df2[\"College\"].mean()\n",
    "print(\"Average income as a % of men's earnings with a college degree is \" + str(average_college))\n",
    "\n",
    "average_post_grad = df2[\"Post Grad\"].mean()\n",
    "print(\"Average income as a % of men's earnings with post grad \" + str(average_post_grad))\n"
   ]
  },
  {
   "cell_type": "code",
   "execution_count": 117,
   "metadata": {},
   "outputs": [
    {
     "data": {
      "text/plain": [
       "<AxesSubplot:title={'center':'Earnings based on Education levels from 2010-2010'}, xlabel='Year'>"
      ]
     },
     "execution_count": 117,
     "metadata": {},
     "output_type": "execute_result"
    },
    {
     "data": {
      "image/png": "[encoded data removed]",
      "text/plain": [
       "<Figure size 720x720 with 1 Axes>"
      ]
     },
     "metadata": {
      "needs_background": "light"
     },
     "output_type": "display_data"
    }
   ],
   "source": [
    "chart = last_decade.plot(x ='Year', y=['No diploma', 'High School', 'College', 'Post Grad'] , kind = 'bar' , figsize=(10,10))\n",
    "chart.set_title(\"Earnings based on Education levels from 2010-2010\", size = 20)\n",
    "chart"
   ]
  },
  {
   "cell_type": "markdown",
   "metadata": {},
   "source": [
    "# The wage gap stays consistent across all education levels when we measure it as a percentage of men’s earnings with the same educational qualification. This indicates that women are consistently paid lesser even though they have the same qualification as their male counterpart. "
   ]
  },
  {
   "cell_type": "markdown",
   "metadata": {},
   "source": [
    "# Covid-Impact on Women's earnings based on their age\n",
    "\n",
    "We will compare 2019 and 2020 earnings between men & women based on their age to understand how covid impacted the income levels. "
   ]
  },
  {
   "cell_type": "code",
   "execution_count": null,
   "metadata": {},
   "outputs": [],
   "source": [
    "read_file = pd.read_excel (r'\\Users\\neela\\OneDrive\\Documents\\Shruthi\\Python\\Project\\Earnings by Age 2019.xlsx')\n",
    "read_file.to_csv (r'\\Users\\neela\\OneDrive\\Documents\\Shruthi\\Python\\Project/Earnings by Age 2019.csv', index = None, header=True)\n",
    "\n",
    "read_file = pd.read_excel (r'\\Users\\neela\\OneDrive\\Documents\\Shruthi\\Python\\Project\\Earnings by Age 2020.xlsx')\n",
    "read_file.to_csv (r'\\Users\\neela\\OneDrive\\Documents\\Shruthi\\Python\\Project/Earnings by Age 2020.csv', index = None, header=True)\n",
    "\n"
   ]
  },
  {
   "cell_type": "code",
   "execution_count": 119,
   "metadata": {},
   "outputs": [
    {
     "data": {
      "text/html": [
       "<div>\n",
       "<style scoped>\n",
       "    .dataframe tbody tr th:only-of-type {\n",
       "        vertical-align: middle;\n",
       "    }\n",
       "\n",
       "    .dataframe tbody tr th {\n",
       "        vertical-align: top;\n",
       "    }\n",
       "\n",
       "    .dataframe thead th {\n",
       "        text-align: right;\n",
       "    }\n",
       "</style>\n",
       "<table border=\"1\" class=\"dataframe\">\n",
       "  <thead>\n",
       "    <tr style=\"text-align: right;\">\n",
       "      <th></th>\n",
       "      <th>Age</th>\n",
       "      <th>2020 Total Workers</th>\n",
       "      <th>2020 Total Median Earnings</th>\n",
       "      <th>SOE 2020</th>\n",
       "      <th>2020 Number of Female Workers</th>\n",
       "      <th>2020 Median Female Earnings</th>\n",
       "      <th>SOE 2020 1</th>\n",
       "      <th>2020 Number of Male Workers</th>\n",
       "      <th>2020 Median Male Earnings</th>\n",
       "      <th>SOE 2020 3</th>\n",
       "      <th>20.2</th>\n",
       "    </tr>\n",
       "  </thead>\n",
       "  <tbody>\n",
       "    <tr>\n",
       "      <th>0</th>\n",
       "      <td>Total, 16 years and older</td>\n",
       "      <td>110387</td>\n",
       "      <td>984</td>\n",
       "      <td>2</td>\n",
       "      <td>49476</td>\n",
       "      <td>891</td>\n",
       "      <td>3</td>\n",
       "      <td>60911</td>\n",
       "      <td>1082</td>\n",
       "      <td>5</td>\n",
       "      <td>82.3</td>\n",
       "    </tr>\n",
       "    <tr>\n",
       "      <th>1</th>\n",
       "      <td>16 to 24 years</td>\n",
       "      <td>9364</td>\n",
       "      <td>606</td>\n",
       "      <td>3</td>\n",
       "      <td>4172</td>\n",
       "      <td>589</td>\n",
       "      <td>4</td>\n",
       "      <td>5191</td>\n",
       "      <td>622</td>\n",
       "      <td>4</td>\n",
       "      <td>94.7</td>\n",
       "    </tr>\n",
       "    <tr>\n",
       "      <th>2</th>\n",
       "      <td>16 to 19 years</td>\n",
       "      <td>1336</td>\n",
       "      <td>497</td>\n",
       "      <td>5</td>\n",
       "      <td>536</td>\n",
       "      <td>464</td>\n",
       "      <td>11</td>\n",
       "      <td>800</td>\n",
       "      <td>513</td>\n",
       "      <td>6</td>\n",
       "      <td>90.4</td>\n",
       "    </tr>\n",
       "    <tr>\n",
       "      <th>3</th>\n",
       "      <td>20 to 24 years</td>\n",
       "      <td>8027</td>\n",
       "      <td>624</td>\n",
       "      <td>4</td>\n",
       "      <td>3636</td>\n",
       "      <td>606</td>\n",
       "      <td>4</td>\n",
       "      <td>4391</td>\n",
       "      <td>648</td>\n",
       "      <td>5</td>\n",
       "      <td>93.5</td>\n",
       "    </tr>\n",
       "    <tr>\n",
       "      <th>4</th>\n",
       "      <td>25 years and older</td>\n",
       "      <td>101024</td>\n",
       "      <td>1029</td>\n",
       "      <td>3</td>\n",
       "      <td>45304</td>\n",
       "      <td>929</td>\n",
       "      <td>3</td>\n",
       "      <td>55720</td>\n",
       "      <td>1144</td>\n",
       "      <td>3</td>\n",
       "      <td>81.2</td>\n",
       "    </tr>\n",
       "    <tr>\n",
       "      <th>5</th>\n",
       "      <td>25 to 34 years</td>\n",
       "      <td>27661</td>\n",
       "      <td>904</td>\n",
       "      <td>4</td>\n",
       "      <td>12375</td>\n",
       "      <td>852</td>\n",
       "      <td>6</td>\n",
       "      <td>15287</td>\n",
       "      <td>952</td>\n",
       "      <td>6</td>\n",
       "      <td>89.5</td>\n",
       "    </tr>\n",
       "    <tr>\n",
       "      <th>6</th>\n",
       "      <td>35 to 44 years</td>\n",
       "      <td>25641</td>\n",
       "      <td>1106</td>\n",
       "      <td>6</td>\n",
       "      <td>11293</td>\n",
       "      <td>978</td>\n",
       "      <td>7</td>\n",
       "      <td>14348</td>\n",
       "      <td>1205</td>\n",
       "      <td>9</td>\n",
       "      <td>81.2</td>\n",
       "    </tr>\n",
       "    <tr>\n",
       "      <th>7</th>\n",
       "      <td>45 to 54 years</td>\n",
       "      <td>23814</td>\n",
       "      <td>1129</td>\n",
       "      <td>6</td>\n",
       "      <td>10853</td>\n",
       "      <td>977</td>\n",
       "      <td>7</td>\n",
       "      <td>12961</td>\n",
       "      <td>1260</td>\n",
       "      <td>9</td>\n",
       "      <td>77.5</td>\n",
       "    </tr>\n",
       "    <tr>\n",
       "      <th>8</th>\n",
       "      <td>55 to 64 years</td>\n",
       "      <td>19017</td>\n",
       "      <td>1096</td>\n",
       "      <td>8</td>\n",
       "      <td>8683</td>\n",
       "      <td>955</td>\n",
       "      <td>7</td>\n",
       "      <td>10334</td>\n",
       "      <td>1228</td>\n",
       "      <td>11</td>\n",
       "      <td>77.8</td>\n",
       "    </tr>\n",
       "    <tr>\n",
       "      <th>9</th>\n",
       "      <td>65 years and older</td>\n",
       "      <td>4890</td>\n",
       "      <td>999</td>\n",
       "      <td>11</td>\n",
       "      <td>2100</td>\n",
       "      <td>897</td>\n",
       "      <td>12</td>\n",
       "      <td>2790</td>\n",
       "      <td>1115</td>\n",
       "      <td>19</td>\n",
       "      <td>80.4</td>\n",
       "    </tr>\n",
       "  </tbody>\n",
       "</table>\n",
       "</div>"
      ],
      "text/plain": [
       "                         Age  2020 Total Workers  2020 Total Median Earnings  \\\n",
       "0  Total, 16 years and older              110387                         984   \n",
       "1             16 to 24 years                9364                         606   \n",
       "2             16 to 19 years                1336                         497   \n",
       "3             20 to 24 years                8027                         624   \n",
       "4         25 years and older              101024                        1029   \n",
       "5             25 to 34 years               27661                         904   \n",
       "6             35 to 44 years               25641                        1106   \n",
       "7             45 to 54 years               23814                        1129   \n",
       "8             55 to 64 years               19017                        1096   \n",
       "9         65 years and older                4890                         999   \n",
       "\n",
       "   SOE 2020  2020 Number of Female Workers   2020 Median Female Earnings  \\\n",
       "0         2                           49476                          891   \n",
       "1         3                            4172                          589   \n",
       "2         5                             536                          464   \n",
       "3         4                            3636                          606   \n",
       "4         3                           45304                          929   \n",
       "5         4                           12375                          852   \n",
       "6         6                           11293                          978   \n",
       "7         6                           10853                          977   \n",
       "8         8                            8683                          955   \n",
       "9        11                            2100                          897   \n",
       "\n",
       "   SOE 2020 1  2020 Number of Male Workers  2020 Median Male Earnings  \\\n",
       "0           3                        60911                       1082   \n",
       "1           4                         5191                        622   \n",
       "2          11                          800                        513   \n",
       "3           4                         4391                        648   \n",
       "4           3                        55720                       1144   \n",
       "5           6                        15287                        952   \n",
       "6           7                        14348                       1205   \n",
       "7           7                        12961                       1260   \n",
       "8           7                        10334                       1228   \n",
       "9          12                         2790                       1115   \n",
       "\n",
       "   SOE 2020 3  20.2  \n",
       "0           5  82.3  \n",
       "1           4  94.7  \n",
       "2           6  90.4  \n",
       "3           5  93.5  \n",
       "4           3  81.2  \n",
       "5           6  89.5  \n",
       "6           9  81.2  \n",
       "7           9  77.5  \n",
       "8          11  77.8  \n",
       "9          19  80.4  "
      ]
     },
     "execution_count": 119,
     "metadata": {},
     "output_type": "execute_result"
    }
   ],
   "source": [
    "df3 = pd.read_csv(r'\\Users\\neela\\OneDrive\\Documents\\Shruthi\\Python\\Project\\Earnings by Age 2019.csv')\n",
    "df3.head()\n",
    "\n",
    "df4 = pd.read_csv(r'\\Users\\neela\\OneDrive\\Documents\\Shruthi\\Python\\Project\\Earnings by Age 2020.csv')\n",
    "df4\n"
   ]
  },
  {
   "cell_type": "code",
   "execution_count": null,
   "metadata": {},
   "outputs": [],
   "source": [
    "age = pd.merge(df3, df4, on = \"Age\", how=\"outer\")\n",
    "age.columns #making sure that all the columns are present\n",
    "\n",
    "age= age.rename(columns={'20.19': '2019%', '20.2': '2020%'})\n",
    "age.columns\n"
   ]
  },
  {
   "cell_type": "code",
   "execution_count": 120,
   "metadata": {},
   "outputs": [
    {
     "data": {
      "text/plain": [
       "Text(0.5, 0, 'Age Groups')"
      ]
     },
     "execution_count": 120,
     "metadata": {},
     "output_type": "execute_result"
    },
    {
     "data": {
      "image/png": "[encoded data removed]",
      "text/plain": [
       "<Figure size 720x720 with 1 Axes>"
      ]
     },
     "metadata": {
      "needs_background": "light"
     },
     "output_type": "display_data"
    }
   ],
   "source": [
    "import warnings\n",
    "warnings.filterwarnings('ignore')\n",
    "age['Percentage Change in Total Workers'] = (age['2020 Total Workers'] - age['2019 Total Workers'])/age['2019 Total Workers']*100\n",
    "age['Percentage Change in Male Workers'] = (age['2020 Number of Male Workers'] - age['2019 Number of Male Workers'])/age['2019 Number of Male Workers']*100\n",
    "age['Percentage Change in Female Workers'] = (age['2020 Number of Female Workers '] - age['2019 Number of Female Workers '])/age['2019 Number of Female Workers ']*100\n",
    "percentage_change = age[['Age', 'Percentage Change in Female Workers', 'Percentage Change in Male Workers', 'Percentage Change in Total Workers']]\n",
    "\n",
    "bar = percentage_change.plot(x = \"Age\", y = [\"Percentage Change in Female Workers\", \"Percentage Change in Male Workers\", \"Percentage Change in Total Workers\"], kind = \"bar\", figsize = (10,10))\n",
    "bar.set_title(\"Changes in the workforce due to Covid between 2019 & 2020\", size = 20)\n",
    "bar.set_ylabel(\"Percentage change in the workforce\", size = 15)\n",
    "bar.set_xlabel(\"Age Groups\", size = 15)"
   ]
  },
  {
   "cell_type": "markdown",
   "metadata": {},
   "source": [
    "# We can conclude that all age groups saw a decline. The highest decline was attributed to the 20-24 years age group while >=65 remained least affected. It should also be noted that there was a higher decline in the number of women in the workforce in most age groups compared to men. "
   ]
  },
  {
   "cell_type": "code",
   "execution_count": null,
   "metadata": {},
   "outputs": [],
   "source": [
    "import warnings\n",
    "warnings.filterwarnings('ignore')\n",
    "age['Percentage Change in Female Earnings'] = (age['2020 Median Female Earnings'] - age['2019 Median Female Earnings'])/age['2019 Median Female Earnings']*100\n",
    "earnings_change = age[['Age', 'Percentage Change in Female Earnings']]\n",
    "display(earnings_change)\n",
    "\n",
    "bar1 = earnings_change.plot(x = \"Age\", y = \"Percentage Change in Female Earnings\", kind = \"bar\", figsize = (10,10))\n",
    "bar1.set_title(\"Change in Women's Earnings due to Covid between 2019 & 2020\", size = 20)\n",
    "bar1.set_ylabel(\"Percentage change of women's earnings\", size = 15)\n",
    "bar1.set_xlabel(\"Age Groups\", size = 15)"
   ]
  },
  {
   "cell_type": "markdown",
   "metadata": {},
   "source": [
    "# The earnings have increased between 2019 and 2020 with the >65 group showing the highest increase. However this increase may be driven by lesser number of women in the workforce rather than actual increase in income levels. "
   ]
  },
  {
   "cell_type": "code",
   "execution_count": null,
   "metadata": {},
   "outputs": [],
   "source": [
    "wage_gap = age[[\"Age\", \"2020 Median Female Earnings\", \"2020 Median Male Earnings\", \"2019 Median Female Earnings\", \"2019 Median Male Earnings\"]]\n",
    "display(wage_gap)\n",
    "\n",
    "bar2 = age.plot(x = \"Age\", y = [\"2020 Median Female Earnings\", \"2020 Median Male Earnings\", \"2019 Median Female Earnings\", \"2019 Median Male Earnings\"], kind = \"bar\", figsize = (10,10))\n",
    "bar2.set_title(\"Earnings by Gender & Age Group in 2019 & 2020\", size = 20)\n",
    "bar2.set_xlabel(\"Age Groups\", size = 15)"
   ]
  },
  {
   "cell_type": "markdown",
   "metadata": {},
   "source": [
    "# The above graph clearly represents the wage gap between the two genders pre & post covid. Based on these numbers, the wage gap has not changed too much due to covid. "
   ]
  },
  {
   "cell_type": "code",
   "execution_count": null,
   "metadata": {},
   "outputs": [],
   "source": [
    "x = age[[\"Age\",\"2020%\", \"2019%\"]]\n",
    "x\n",
    "bar3 = x.plot(x = \"Age\", y = [\"2020%\", \"2019%\"], kind = \"bar\", figsize = (10,10))\n"
   ]
  },
  {
   "cell_type": "markdown",
   "metadata": {},
   "source": [
    "# In every age group, the earnings of women as  % of men's has marginally increased. However, due to similar levels of decline of women in the workforce, it would be safe to conclude that COVID did not increase or decrease the wage gap significantly.  "
   ]
  },
  {
   "cell_type": "markdown",
   "metadata": {},
   "source": [
    "# Covid-Impact on Women's earnings based on their Marital Status\n",
    "\n",
    "We try to analyze the correlation between Women's earnings and their Marital Status"
   ]
  },
  {
   "cell_type": "code",
   "execution_count": null,
   "metadata": {},
   "outputs": [],
   "source": [
    "read_file = pd.read_excel (r'\\Users\\neela\\OneDrive\\Documents\\Shruthi\\Python\\Project\\Earnings by Marital Status 2019.xlsx')\n",
    "read_file.to_csv (r'\\Users\\neela\\OneDrive\\Documents\\Shruthi\\Python\\Project/Earnings by Marital Status 2019.csv', index = None, header=True)\n",
    "\n",
    "read_file = pd.read_excel (r'\\Users\\neela\\OneDrive\\Documents\\Shruthi\\Python\\Project\\Earnings by Marital Status 2020.xlsx')\n",
    "read_file.to_csv (r'\\Users\\neela\\OneDrive\\Documents\\Shruthi\\Python\\Project/Earnings by Marital Status 2020.csv', index = None, header=True)\n",
    "\n"
   ]
  },
  {
   "cell_type": "code",
   "execution_count": null,
   "metadata": {},
   "outputs": [],
   "source": [
    "df5 = pd.read_csv(r'\\Users\\neela\\OneDrive\\Documents\\Shruthi\\Python\\Project\\Earnings by Marital Status 2019.csv')\n",
    "df5.head()\n",
    "\n",
    "df6 = pd.read_csv(r'\\Users\\neela\\OneDrive\\Documents\\Shruthi\\Python\\Project\\Earnings by Marital Status 2020.csv')\n",
    "df6.head()\n"
   ]
  },
  {
   "cell_type": "code",
   "execution_count": null,
   "metadata": {},
   "outputs": [],
   "source": [
    "marital_status = pd.merge(df5, df6, on = \"Marital Status\", how = \"outer\")\n",
    "\n"
   ]
  },
  {
   "cell_type": "code",
   "execution_count": null,
   "metadata": {},
   "outputs": [],
   "source": [
    "marital_status = (marital_status.rename(columns={'20.19': '2019%', '20.2': '2020%'}))\n",
    "marital_status.head()"
   ]
  },
  {
   "cell_type": "code",
   "execution_count": null,
   "metadata": {},
   "outputs": [],
   "source": [
    "compare = marital_status[[\"Marital Status\", \"2019 Median Female Earnings\", \"2019 Median Male Earnings\", \"2020 Median Female Earnings\", \"2020 Median Male Earnings\"]]\n",
    "display(compare)\n"
   ]
  },
  {
   "cell_type": "code",
   "execution_count": null,
   "metadata": {},
   "outputs": [],
   "source": [
    "marital_status['Percentage Change in Female Earnings'] = (marital_status['2020 Median Female Earnings'] - marital_status['2019 Median Female Earnings'])/marital_status['2019 Median Female Earnings']*100\n",
    "marital_status['Percentage Change in Male Earnings'] = (marital_status['2020 Median Male Earnings'] - marital_status['2019 Median Male Earnings'])/marital_status['2019 Median Male Earnings']*100\n",
    "\n",
    "change = marital_status[[\"Marital Status\", \"Percentage Change in Female Earnings\", \"Percentage Change in Male Earnings\"]]\n",
    "display(change)"
   ]
  },
  {
   "cell_type": "code",
   "execution_count": 121,
   "metadata": {},
   "outputs": [
    {
     "data": {
      "text/plain": [
       "<AxesSubplot:xlabel='Marital Status'>"
      ]
     },
     "execution_count": 121,
     "metadata": {},
     "output_type": "execute_result"
    },
    {
     "data": {
      "image/png": "[encoded data removed]",
      "text/plain": [
       "<Figure size 720x720 with 1 Axes>"
      ]
     },
     "metadata": {
      "needs_background": "light"
     },
     "output_type": "display_data"
    }
   ],
   "source": [
    "change.plot(x = \"Marital Status\", y =[\"Percentage Change in Female Earnings\", \"Percentage Change in Male Earnings\"], kind = \"bar\", figsize = (10,10))"
   ]
  },
  {
   "cell_type": "markdown",
   "metadata": {},
   "source": [
    "# Based on the percentage changes, there seems to be little correlation between a woman's marital status and her absolute income levels as well as income levels compared to men with the same marital status due to COVID-19. Women that have never been married saw an 8% increase in their earnings whereas women that are separated only saw a 2% increase in 2020. "
   ]
  }
 ],
 "metadata": {
  "kernelspec": {
   "display_name": "Python 3",
   "language": "python",
   "name": "python3"
  },
  "language_info": {
   "codemirror_mode": {
    "name": "ipython",
    "version": 3
   },
   "file_extension": ".py",
   "mimetype": "text/x-python",
   "name": "python",
   "nbconvert_exporter": "python",
   "pygments_lexer": "ipython3",
   "version": "3.7.6"
  }
 },
 "nbformat": 4,
 "nbformat_minor": 4
}
